{
 "cells": [
  {
   "cell_type": "code",
   "execution_count": 1,
   "metadata": {},
   "outputs": [
    {
     "name": "stdout",
     "output_type": "stream",
     "text": [
      "Looking in indexes: https://pypi.org/simple, https://pypi.ngc.nvidia.com\n",
      "Collecting albumentations\n",
      "  Downloading albumentations-2.0.4-py3-none-any.whl.metadata (41 kB)\n",
      "Requirement already satisfied: numpy>=1.24.4 in c:\\users\\asus\\.conda\\envs\\deeplearn\\lib\\site-packages (from albumentations) (1.26.4)\n",
      "Requirement already satisfied: scipy>=1.10.0 in c:\\users\\asus\\.conda\\envs\\deeplearn\\lib\\site-packages (from albumentations) (1.15.1)\n",
      "Requirement already satisfied: PyYAML in c:\\users\\asus\\.conda\\envs\\deeplearn\\lib\\site-packages (from albumentations) (6.0.2)\n",
      "Requirement already satisfied: pydantic>=2.9.2 in c:\\users\\asus\\appdata\\roaming\\python\\python312\\site-packages (from albumentations) (2.9.2)\n",
      "Collecting albucore==0.0.23 (from albumentations)\n",
      "  Downloading albucore-0.0.23-py3-none-any.whl.metadata (5.3 kB)\n",
      "Requirement already satisfied: opencv-python-headless>=4.9.0.80 in c:\\users\\asus\\appdata\\roaming\\python\\python312\\site-packages (from albumentations) (4.10.0.84)\n",
      "Collecting stringzilla>=3.10.4 (from albucore==0.0.23->albumentations)\n",
      "  Downloading stringzilla-3.11.3-cp312-cp312-win_amd64.whl.metadata (81 kB)\n",
      "Collecting simsimd>=5.9.2 (from albucore==0.0.23->albumentations)\n",
      "  Downloading simsimd-6.2.1-cp312-cp312-win_amd64.whl.metadata (67 kB)\n",
      "Requirement already satisfied: annotated-types>=0.6.0 in c:\\users\\asus\\.conda\\envs\\deeplearn\\lib\\site-packages (from pydantic>=2.9.2->albumentations) (0.7.0)\n",
      "Requirement already satisfied: pydantic-core==2.23.4 in c:\\users\\asus\\appdata\\roaming\\python\\python312\\site-packages (from pydantic>=2.9.2->albumentations) (2.23.4)\n",
      "Requirement already satisfied: typing-extensions>=4.6.1 in c:\\users\\asus\\.conda\\envs\\deeplearn\\lib\\site-packages (from pydantic>=2.9.2->albumentations) (4.12.2)\n",
      "Downloading albumentations-2.0.4-py3-none-any.whl (289 kB)\n",
      "Downloading albucore-0.0.23-py3-none-any.whl (14 kB)\n",
      "Downloading simsimd-6.2.1-cp312-cp312-win_amd64.whl (87 kB)\n",
      "Downloading stringzilla-3.11.3-cp312-cp312-win_amd64.whl (80 kB)\n",
      "Installing collected packages: stringzilla, simsimd, albucore, albumentations\n",
      "Successfully installed albucore-0.0.23 albumentations-2.0.4 simsimd-6.2.1 stringzilla-3.11.3\n",
      "Note: you may need to restart the kernel to use updated packages.\n"
     ]
    }
   ],
   "source": [
    "%pip install albumentations"
   ]
  },
  {
   "cell_type": "code",
   "execution_count": null,
   "metadata": {},
   "outputs": [],
   "source": [
    "import tensorflow as tf\n",
    "import matplotlib.pyplot as plt\n",
    "from PIL import Image\n",
    "import numpy as np\n",
    "import os\n",
    "from albumentations import RandomRotate90\n",
    "from tensorflow.keras import mixed_precision\n",
    "import gc"
   ]
  }
 ],
 "metadata": {
  "kernelspec": {
   "display_name": "deeplearn",
   "language": "python",
   "name": "python3"
  },
  "language_info": {
   "codemirror_mode": {
    "name": "ipython",
    "version": 3
   },
   "file_extension": ".py",
   "mimetype": "text/x-python",
   "name": "python",
   "nbconvert_exporter": "python",
   "pygments_lexer": "ipython3",
   "version": "3.12.8"
  }
 },
 "nbformat": 4,
 "nbformat_minor": 2
}
