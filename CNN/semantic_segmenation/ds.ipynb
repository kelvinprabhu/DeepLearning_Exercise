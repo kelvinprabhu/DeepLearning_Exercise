{
 "cells": [
  {
   "cell_type": "code",
   "execution_count": null,
   "metadata": {},
   "outputs": [],
   "source": [
    "import tensorflow_datasets as tfds\n",
    "import matplotlib.pyplot as plt\n",
    "\n",
    "ds, info = tfds.load('oxford_iiit_pet', split='train', with_info=True, as_supervised=True, data_dir=\"~/.tensorflow_datasets/\")\n",
    "\n",
    "# Display first image\n",
    "for image, label in ds.take(1):\n",
    "    plt.imshow(image.numpy())\n",
    "    plt.title(f\"Label: {label.numpy()}\")\n",
    "    plt.axis(\"off\")\n",
    "    plt.show()\n"
   ]
  }
 ],
 "metadata": {
  "kernelspec": {
   "display_name": "linux-deep-gpu",
   "language": "python",
   "name": "python3"
  },
  "language_info": {
   "name": "python",
   "version": "3.12.9"
  }
 },
 "nbformat": 4,
 "nbformat_minor": 2
}
