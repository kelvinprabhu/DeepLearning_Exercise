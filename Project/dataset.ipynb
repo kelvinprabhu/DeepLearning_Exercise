{
 "cells": [
  {
   "cell_type": "code",
   "execution_count": null,
   "metadata": {},
   "outputs": [],
   "source": []
  },
  {
   "cell_type": "code",
   "execution_count": 2,
   "metadata": {},
   "outputs": [
    {
     "name": "stderr",
     "output_type": "stream",
     "text": [
      "/home/kelvin/miniconda3/envs/linux-deep-gpu/lib/python3.12/site-packages/tqdm/auto.py:21: TqdmWarning: IProgress not found. Please update jupyter and ipywidgets. See https://ipywidgets.readthedocs.io/en/stable/user_install.html\n",
      "  from .autonotebook import tqdm as notebook_tqdm\n"
     ]
    },
    {
     "name": "stdout",
     "output_type": "stream",
     "text": [
      "Downloading from https://www.kaggle.com/api/v1/datasets/download/mrigaankjaswal/exercise-detection-dataset?dataset_version_number=1...\n"
     ]
    },
    {
     "name": "stderr",
     "output_type": "stream",
     "text": [
      "100%|██████████| 1.39M/1.39M [00:01<00:00, 1.04MB/s]"
     ]
    },
    {
     "name": "stdout",
     "output_type": "stream",
     "text": [
      "Extracting files...\n",
      "Path to dataset files: /home/kelvin/.cache/kagglehub/datasets/mrigaankjaswal/exercise-detection-dataset/versions/1\n"
     ]
    },
    {
     "name": "stderr",
     "output_type": "stream",
     "text": [
      "\n"
     ]
    }
   ],
   "source": [
    "import kagglehub\n",
    "\n",
    "# Download latest version\n",
    "path = kagglehub.dataset_download(\"mrigaankjaswal/exercise-detection-dataset\")\n",
    "\n",
    "print(\"Path to dataset files:\", path)"
   ]
  },
  {
   "cell_type": "code",
   "execution_count": 7,
   "metadata": {},
   "outputs": [
    {
     "name": "stdout",
     "output_type": "stream",
     "text": [
      "   Side  Shoulder_Angle  Elbow_Angle   Hip_Angle  Knee_Angle  Ankle_Angle  \\\n",
      "0  left       10.639208   174.466813  174.785143  179.848140   179.419276   \n",
      "1  left       10.590342   174.428706  174.765042  179.775215   179.386147   \n",
      "2  left       10.546746   174.489431  174.785790  179.660017   179.333710   \n",
      "3  left       10.487682   174.614913  174.759542  179.614223   179.313926   \n",
      "4  left       10.412107   174.758503  174.737721  179.570564   179.298805   \n",
      "\n",
      "   Shoulder_Ground_Angle  Elbow_Ground_Angle  Hip_Ground_Angle  \\\n",
      "0                   90.0                90.0              90.0   \n",
      "1                   90.0                90.0              90.0   \n",
      "2                   90.0                90.0              90.0   \n",
      "3                   90.0                90.0              90.0   \n",
      "4                   90.0                90.0              90.0   \n",
      "\n",
      "   Knee_Ground_Angle  Ankle_Ground_Angle          Label  \n",
      "0               90.0                90.0  Jumping Jacks  \n",
      "1               90.0                90.0  Jumping Jacks  \n",
      "2               90.0                90.0  Jumping Jacks  \n",
      "3               90.0                90.0  Jumping Jacks  \n",
      "4               90.0                90.0  Jumping Jacks  \n"
     ]
    }
   ],
   "source": [
    "import pandas as pd\n",
    "import os\n",
    "\n",
    "# Load the dataset\n",
    "file_path = os.path.join(path, 'exercise_angles.csv')\n",
    "df = pd.read_csv(file_path)\n",
    "\n",
    "print(df.head())\n"
   ]
  },
  {
   "cell_type": "code",
   "execution_count": 10,
   "metadata": {},
   "outputs": [
    {
     "data": {
      "text/plain": [
       "<Axes: xlabel='Label'>"
      ]
     },
     "execution_count": 10,
     "metadata": {},
     "output_type": "execute_result"
    },
    {
     "data": {
      "image/png": "[encoded data removed]",
      "text/plain": [
       "<Figure size 640x480 with 1 Axes>"
      ]
     },
     "metadata": {},
     "output_type": "display_data"
    }
   ],
   "source": [
    "df['Label'].value_counts().plot(kind='bar')"
   ]
  },
  {
   "cell_type": "code",
   "execution_count": 11,
   "metadata": {},
   "outputs": [
    {
     "data": {
      "text/plain": [
       "(31033, 12)"
      ]
     },
     "execution_count": 11,
     "metadata": {},
     "output_type": "execute_result"
    }
   ],
   "source": [
    "df.shape"
   ]
  },
  {
   "cell_type": "code",
   "execution_count": 12,
   "metadata": {},
   "outputs": [
    {
     "name": "stderr",
     "output_type": "stream",
     "text": [
      "2025-03-05 10:43:25.886552: E external/local_xla/xla/stream_executor/cuda/cuda_fft.cc:477] Unable to register cuFFT factory: Attempting to register factory for plugin cuFFT when one has already been registered\n",
      "WARNING: All log messages before absl::InitializeLog() is called are written to STDERR\n",
      "E0000 00:00:1741171406.112065   12572 cuda_dnn.cc:8310] Unable to register cuDNN factory: Attempting to register factory for plugin cuDNN when one has already been registered\n",
      "E0000 00:00:1741171406.176000   12572 cuda_blas.cc:1418] Unable to register cuBLAS factory: Attempting to register factory for plugin cuBLAS when one has already been registered\n",
      "2025-03-05 10:43:26.755691: I tensorflow/core/platform/cpu_feature_guard.cc:210] This TensorFlow binary is optimized to use available CPU instructions in performance-critical operations.\n",
      "To enable the following instructions: AVX2 FMA, in other operations, rebuild TensorFlow with the appropriate compiler flags.\n"
     ]
    }
   ],
   "source": [
    "import pandas as pd\n",
    "import numpy as np\n",
    "from sklearn.model_selection import train_test_split\n",
    "from sklearn.preprocessing import LabelEncoder\n",
    "from tensorflow import keras\n",
    "from tensorflow.keras import layers\n",
    "import matplotlib.pyplot as plt\n",
    "import seaborn as sns\n",
    "from sklearn.metrics import confusion_matrix, classification_report"
   ]
  },
  {
   "cell_type": "code",
   "execution_count": 13,
   "metadata": {},
   "outputs": [],
   "source": [
    "features = []\n",
    "\n",
    "for column in df.columns:\n",
    "    features.append(column)\n",
    "\n",
    "targets = features.pop()"
   ]
  },
  {
   "cell_type": "code",
   "execution_count": 16,
   "metadata": {},
   "outputs": [
    {
     "data": {
      "text/plain": [
       "['Hip_Angle',\n",
       " 'Knee_Angle',\n",
       " 'Ankle_Angle',\n",
       " 'Shoulder_Ground_Angle',\n",
       " 'Elbow_Ground_Angle',\n",
       " 'Hip_Ground_Angle',\n",
       " 'Knee_Ground_Angle',\n",
       " 'Ankle_Ground_Angle']"
      ]
     },
     "execution_count": 16,
     "metadata": {},
     "output_type": "execute_result"
    }
   ],
   "source": [
    "del features[0]\n",
    "features"
   ]
  },
  {
   "cell_type": "code",
   "execution_count": 17,
   "metadata": {},
   "outputs": [
    {
     "data": {
      "text/plain": [
       "'Label'"
      ]
     },
     "execution_count": 17,
     "metadata": {},
     "output_type": "execute_result"
    }
   ],
   "source": [
    "targets"
   ]
  },
  {
   "cell_type": "code",
   "execution_count": 19,
   "metadata": {},
   "outputs": [],
   "source": [
    "label_encoder = LabelEncoder()\n",
    "df[targets] = label_encoder.fit_transform(df[targets])\n",
    "\n",
    "exercise_predictors = df[features].values\n",
    "exercise_categories = df[targets].values\n",
    "exercise_predictors_train, exercise_predictors_test, exercise_categories_train, exercise_categories_test = train_test_split(exercise_predictors, exercise_categories, test_size = 0.2, random_state = 42)"
   ]
  },
  {
   "cell_type": "code",
   "execution_count": 20,
   "metadata": {},
   "outputs": [
    {
     "name": "stderr",
     "output_type": "stream",
     "text": [
      "I0000 00:00:1741171583.102779   12572 gpu_device.cc:2022] Created device /job:localhost/replica:0/task:0/device:GPU:0 with 1767 MB memory:  -> device: 0, name: NVIDIA GeForce RTX 3050 Laptop GPU, pci bus id: 0000:01:00.0, compute capability: 8.6\n"
     ]
    },
    {
     "name": "stdout",
     "output_type": "stream",
     "text": [
      "Epoch 1/50\n"
     ]
    },
    {
     "name": "stderr",
     "output_type": "stream",
     "text": [
      "WARNING: All log messages before absl::InitializeLog() is called are written to STDERR\n",
      "I0000 00:00:1741171588.274834   13822 service.cc:148] XLA service 0x7fd8d4002170 initialized for platform CUDA (this does not guarantee that XLA will be used). Devices:\n",
      "I0000 00:00:1741171588.275550   13822 service.cc:156]   StreamExecutor device (0): NVIDIA GeForce RTX 3050 Laptop GPU, Compute Capability 8.6\n",
      "2025-03-05 10:46:28.390894: I tensorflow/compiler/mlir/tensorflow/utils/dump_mlir_util.cc:268] disabling MLIR crash reproducer, set env var `MLIR_CRASH_REPRODUCER_DIRECTORY` to enable.\n",
      "I0000 00:00:1741171588.941186   13822 cuda_dnn.cc:529] Loaded cuDNN version 90501\n",
      "2025-03-05 10:46:32.915351: I external/local_xla/xla/stream_executor/cuda/cuda_asm_compiler.cc:397] ptxas warning : Registers are spilled to local memory in function 'gemm_fusion_dot_555', 68 bytes spill stores, 72 bytes spill loads\n",
      "\n",
      "2025-03-05 10:46:33.700896: I external/local_xla/xla/stream_executor/cuda/cuda_asm_compiler.cc:397] ptxas warning : Registers are spilled to local memory in function 'gemm_fusion_dot_557', 68 bytes spill stores, 72 bytes spill loads\n",
      "\n",
      "2025-03-05 10:46:33.887851: I external/local_xla/xla/stream_executor/cuda/cuda_asm_compiler.cc:397] ptxas warning : Registers are spilled to local memory in function 'gemm_fusion_dot_555', 68 bytes spill stores, 72 bytes spill loads\n",
      "\n",
      "2025-03-05 10:46:33.890041: I external/local_xla/xla/stream_executor/cuda/cuda_asm_compiler.cc:397] ptxas warning : Registers are spilled to local memory in function 'gemm_fusion_dot_557', 24 bytes spill stores, 24 bytes spill loads\n",
      "\n"
     ]
    },
    {
     "name": "stdout",
     "output_type": "stream",
     "text": [
      "\u001b[1m 20/621\u001b[0m \u001b[37m━━━━━━━━━━━━━━━━━━━━\u001b[0m \u001b[1m5s\u001b[0m 8ms/step - accuracy: 0.3187 - loss: 3.3065 "
     ]
    },
    {
     "name": "stderr",
     "output_type": "stream",
     "text": [
      "I0000 00:00:1741171597.975357   13822 device_compiler.h:188] Compiled cluster using XLA!  This line is logged at most once for the lifetime of the process.\n"
     ]
    },
    {
     "name": "stdout",
     "output_type": "stream",
     "text": [
      "\u001b[1m614/621\u001b[0m \u001b[32m━━━━━━━━━━━━━━━━━━━\u001b[0m\u001b[37m━\u001b[0m \u001b[1m0s\u001b[0m 8ms/step - accuracy: 0.6095 - loss: 1.0619"
     ]
    },
    {
     "name": "stderr",
     "output_type": "stream",
     "text": [
      "2025-03-05 10:46:46.719533: I external/local_xla/xla/stream_executor/cuda/cuda_asm_compiler.cc:397] ptxas warning : Registers are spilled to local memory in function 'gemm_fusion_dot_555', 32 bytes spill stores, 32 bytes spill loads\n",
      "\n",
      "2025-03-05 10:46:47.381938: I external/local_xla/xla/stream_executor/cuda/cuda_asm_compiler.cc:397] ptxas warning : Registers are spilled to local memory in function 'gemm_fusion_dot_557', 24 bytes spill stores, 24 bytes spill loads\n",
      "\n",
      "2025-03-05 10:46:47.880480: I external/local_xla/xla/stream_executor/cuda/cuda_asm_compiler.cc:397] ptxas warning : Registers are spilled to local memory in function 'gemm_fusion_dot_557', 24 bytes spill stores, 28 bytes spill loads\n",
      "\n",
      "2025-03-05 10:46:48.099817: I external/local_xla/xla/stream_executor/cuda/cuda_asm_compiler.cc:397] ptxas warning : Registers are spilled to local memory in function 'gemm_fusion_dot_555', 24 bytes spill stores, 28 bytes spill loads\n",
      "\n"
     ]
    },
    {
     "name": "stdout",
     "output_type": "stream",
     "text": [
      "\u001b[1m621/621\u001b[0m \u001b[32m━━━━━━━━━━━━━━━━━━━━\u001b[0m\u001b[37m\u001b[0m \u001b[1m36s\u001b[0m 36ms/step - accuracy: 0.6101 - loss: 1.0588 - val_accuracy: 0.7205 - val_loss: 0.6691\n",
      "Epoch 2/50\n",
      "\u001b[1m621/621\u001b[0m \u001b[32m━━━━━━━━━━━━━━━━━━━━\u001b[0m\u001b[37m\u001b[0m \u001b[1m6s\u001b[0m 10ms/step - accuracy: 0.7112 - loss: 0.6555 - val_accuracy: 0.7201 - val_loss: 0.6497\n",
      "Epoch 3/50\n",
      "\u001b[1m621/621\u001b[0m \u001b[32m━━━━━━━━━━━━━━━━━━━━\u001b[0m\u001b[37m\u001b[0m \u001b[1m7s\u001b[0m 11ms/step - accuracy: 0.7225 - loss: 0.6246 - val_accuracy: 0.7332 - val_loss: 0.6085\n",
      "Epoch 4/50\n",
      "\u001b[1m621/621\u001b[0m \u001b[32m━━━━━━━━━━━━━━━━━━━━\u001b[0m\u001b[37m\u001b[0m \u001b[1m7s\u001b[0m 11ms/step - accuracy: 0.7253 - loss: 0.6044 - val_accuracy: 0.7338 - val_loss: 0.6515\n",
      "Epoch 5/50\n",
      "\u001b[1m621/621\u001b[0m \u001b[32m━━━━━━━━━━━━━━━━━━━━\u001b[0m\u001b[37m\u001b[0m \u001b[1m7s\u001b[0m 11ms/step - accuracy: 0.7338 - loss: 0.5909 - val_accuracy: 0.7038 - val_loss: 0.6367\n",
      "Epoch 6/50\n",
      "\u001b[1m621/621\u001b[0m \u001b[32m━━━━━━━━━━━━━━━━━━━━\u001b[0m\u001b[37m\u001b[0m \u001b[1m7s\u001b[0m 11ms/step - accuracy: 0.7344 - loss: 0.5880 - val_accuracy: 0.7441 - val_loss: 0.5744\n",
      "Epoch 7/50\n",
      "\u001b[1m621/621\u001b[0m \u001b[32m━━━━━━━━━━━━━━━━━━━━\u001b[0m\u001b[37m\u001b[0m \u001b[1m6s\u001b[0m 10ms/step - accuracy: 0.7466 - loss: 0.5699 - val_accuracy: 0.7414 - val_loss: 0.5643\n",
      "Epoch 8/50\n",
      "\u001b[1m621/621\u001b[0m \u001b[32m━━━━━━━━━━━━━━━━━━━━\u001b[0m\u001b[37m\u001b[0m \u001b[1m6s\u001b[0m 10ms/step - accuracy: 0.7474 - loss: 0.5566 - val_accuracy: 0.7720 - val_loss: 0.5390\n",
      "Epoch 9/50\n",
      "\u001b[1m621/621\u001b[0m \u001b[32m━━━━━━━━━━━━━━━━━━━━\u001b[0m\u001b[37m\u001b[0m \u001b[1m6s\u001b[0m 10ms/step - accuracy: 0.7564 - loss: 0.5447 - val_accuracy: 0.7648 - val_loss: 0.5340\n",
      "Epoch 10/50\n",
      "\u001b[1m621/621\u001b[0m \u001b[32m━━━━━━━━━━━━━━━━━━━━\u001b[0m\u001b[37m\u001b[0m \u001b[1m7s\u001b[0m 11ms/step - accuracy: 0.7608 - loss: 0.5386 - val_accuracy: 0.7813 - val_loss: 0.5099\n",
      "Epoch 11/50\n",
      "\u001b[1m621/621\u001b[0m \u001b[32m━━━━━━━━━━━━━━━━━━━━\u001b[0m\u001b[37m\u001b[0m \u001b[1m6s\u001b[0m 10ms/step - accuracy: 0.7644 - loss: 0.5278 - val_accuracy: 0.7841 - val_loss: 0.5366\n",
      "Epoch 12/50\n",
      "\u001b[1m621/621\u001b[0m \u001b[32m━━━━━━━━━━━━━━━━━━━━\u001b[0m\u001b[37m\u001b[0m \u001b[1m6s\u001b[0m 10ms/step - accuracy: 0.7624 - loss: 0.5239 - val_accuracy: 0.7831 - val_loss: 0.5238\n",
      "Epoch 13/50\n",
      "\u001b[1m621/621\u001b[0m \u001b[32m━━━━━━━━━━━━━━━━━━━━\u001b[0m\u001b[37m\u001b[0m \u001b[1m6s\u001b[0m 10ms/step - accuracy: 0.7646 - loss: 0.5169 - val_accuracy: 0.7441 - val_loss: 0.5516\n",
      "Epoch 14/50\n",
      "\u001b[1m621/621\u001b[0m \u001b[32m━━━━━━━━━━━━━━━━━━━━\u001b[0m\u001b[37m\u001b[0m \u001b[1m6s\u001b[0m 10ms/step - accuracy: 0.7670 - loss: 0.5122 - val_accuracy: 0.7590 - val_loss: 0.5597\n",
      "Epoch 15/50\n",
      "\u001b[1m621/621\u001b[0m \u001b[32m━━━━━━━━━━━━━━━━━━━━\u001b[0m\u001b[37m\u001b[0m \u001b[1m7s\u001b[0m 11ms/step - accuracy: 0.7681 - loss: 0.5118 - val_accuracy: 0.7676 - val_loss: 0.5358\n",
      "Epoch 16/50\n",
      "\u001b[1m621/621\u001b[0m \u001b[32m━━━━━━━━━━━━━━━━━━━━\u001b[0m\u001b[37m\u001b[0m \u001b[1m7s\u001b[0m 11ms/step - accuracy: 0.7779 - loss: 0.5070 - val_accuracy: 0.7612 - val_loss: 0.5781\n",
      "Epoch 17/50\n",
      "\u001b[1m621/621\u001b[0m \u001b[32m━━━━━━━━━━━━━━━━━━━━\u001b[0m\u001b[37m\u001b[0m \u001b[1m6s\u001b[0m 10ms/step - accuracy: 0.7837 - loss: 0.4867 - val_accuracy: 0.7783 - val_loss: 0.5216\n",
      "Epoch 18/50\n",
      "\u001b[1m621/621\u001b[0m \u001b[32m━━━━━━━━━━━━━━━━━━━━\u001b[0m\u001b[37m\u001b[0m \u001b[1m6s\u001b[0m 10ms/step - accuracy: 0.7791 - loss: 0.4960 - val_accuracy: 0.7813 - val_loss: 0.4923\n",
      "Epoch 19/50\n",
      "\u001b[1m621/621\u001b[0m \u001b[32m━━━━━━━━━━━━━━━━━━━━\u001b[0m\u001b[37m\u001b[0m \u001b[1m6s\u001b[0m 10ms/step - accuracy: 0.7786 - loss: 0.4883 - val_accuracy: 0.7874 - val_loss: 0.5121\n",
      "Epoch 20/50\n",
      "\u001b[1m621/621\u001b[0m \u001b[32m━━━━━━━━━━━━━━━━━━━━\u001b[0m\u001b[37m\u001b[0m \u001b[1m7s\u001b[0m 11ms/step - accuracy: 0.7793 - loss: 0.4851 - val_accuracy: 0.7465 - val_loss: 0.5424\n",
      "Epoch 21/50\n",
      "\u001b[1m621/621\u001b[0m \u001b[32m━━━━━━━━━━━━━━━━━━━━\u001b[0m\u001b[37m\u001b[0m \u001b[1m7s\u001b[0m 10ms/step - accuracy: 0.7784 - loss: 0.4849 - val_accuracy: 0.7811 - val_loss: 0.5166\n",
      "Epoch 22/50\n",
      "\u001b[1m621/621\u001b[0m \u001b[32m━━━━━━━━━━━━━━━━━━━━\u001b[0m\u001b[37m\u001b[0m \u001b[1m7s\u001b[0m 10ms/step - accuracy: 0.7877 - loss: 0.4731 - val_accuracy: 0.7890 - val_loss: 0.5514\n",
      "Epoch 23/50\n",
      "\u001b[1m621/621\u001b[0m \u001b[32m━━━━━━━━━━━━━━━━━━━━\u001b[0m\u001b[37m\u001b[0m \u001b[1m6s\u001b[0m 10ms/step - accuracy: 0.7714 - loss: 0.4962 - val_accuracy: 0.7900 - val_loss: 0.5500\n",
      "Epoch 24/50\n",
      "\u001b[1m621/621\u001b[0m \u001b[32m━━━━━━━━━━━━━━━━━━━━\u001b[0m\u001b[37m\u001b[0m \u001b[1m7s\u001b[0m 11ms/step - accuracy: 0.7820 - loss: 0.4858 - val_accuracy: 0.7821 - val_loss: 0.5049\n",
      "Epoch 25/50\n",
      "\u001b[1m621/621\u001b[0m \u001b[32m━━━━━━━━━━━━━━━━━━━━\u001b[0m\u001b[37m\u001b[0m \u001b[1m7s\u001b[0m 11ms/step - accuracy: 0.7792 - loss: 0.4790 - val_accuracy: 0.8196 - val_loss: 0.4664\n",
      "Epoch 26/50\n",
      "\u001b[1m621/621\u001b[0m \u001b[32m━━━━━━━━━━━━━━━━━━━━\u001b[0m\u001b[37m\u001b[0m \u001b[1m7s\u001b[0m 11ms/step - accuracy: 0.7947 - loss: 0.4649 - val_accuracy: 0.7565 - val_loss: 0.5513\n",
      "Epoch 27/50\n",
      "\u001b[1m621/621\u001b[0m \u001b[32m━━━━━━━━━━━━━━━━━━━━\u001b[0m\u001b[37m\u001b[0m \u001b[1m6s\u001b[0m 10ms/step - accuracy: 0.7979 - loss: 0.4661 - val_accuracy: 0.7497 - val_loss: 0.5656\n",
      "Epoch 28/50\n",
      "\u001b[1m621/621\u001b[0m \u001b[32m━━━━━━━━━━━━━━━━━━━━\u001b[0m\u001b[37m\u001b[0m \u001b[1m6s\u001b[0m 10ms/step - accuracy: 0.7836 - loss: 0.4716 - val_accuracy: 0.7918 - val_loss: 0.5279\n",
      "Epoch 29/50\n",
      "\u001b[1m621/621\u001b[0m \u001b[32m━━━━━━━━━━━━━━━━━━━━\u001b[0m\u001b[37m\u001b[0m \u001b[1m6s\u001b[0m 10ms/step - accuracy: 0.7917 - loss: 0.4603 - val_accuracy: 0.8077 - val_loss: 0.4708\n",
      "Epoch 30/50\n",
      "\u001b[1m621/621\u001b[0m \u001b[32m━━━━━━━━━━━━━━━━━━━━\u001b[0m\u001b[37m\u001b[0m \u001b[1m7s\u001b[0m 11ms/step - accuracy: 0.7965 - loss: 0.4588 - val_accuracy: 0.7900 - val_loss: 0.4977\n",
      "Epoch 31/50\n",
      "\u001b[1m621/621\u001b[0m \u001b[32m━━━━━━━━━━━━━━━━━━━━\u001b[0m\u001b[37m\u001b[0m \u001b[1m7s\u001b[0m 10ms/step - accuracy: 0.7867 - loss: 0.4677 - val_accuracy: 0.7626 - val_loss: 0.5820\n",
      "Epoch 32/50\n",
      "\u001b[1m621/621\u001b[0m \u001b[32m━━━━━━━━━━━━━━━━━━━━\u001b[0m\u001b[37m\u001b[0m \u001b[1m6s\u001b[0m 10ms/step - accuracy: 0.7927 - loss: 0.4663 - val_accuracy: 0.8002 - val_loss: 0.4924\n",
      "Epoch 33/50\n",
      "\u001b[1m621/621\u001b[0m \u001b[32m━━━━━━━━━━━━━━━━━━━━\u001b[0m\u001b[37m\u001b[0m \u001b[1m6s\u001b[0m 10ms/step - accuracy: 0.7949 - loss: 0.4553 - val_accuracy: 0.7755 - val_loss: 0.5238\n",
      "Epoch 34/50\n",
      "\u001b[1m621/621\u001b[0m \u001b[32m━━━━━━━━━━━━━━━━━━━━\u001b[0m\u001b[37m\u001b[0m \u001b[1m6s\u001b[0m 10ms/step - accuracy: 0.7949 - loss: 0.4545 - val_accuracy: 0.7892 - val_loss: 0.5017\n",
      "Epoch 35/50\n",
      "\u001b[1m621/621\u001b[0m \u001b[32m━━━━━━━━━━━━━━━━━━━━\u001b[0m\u001b[37m\u001b[0m \u001b[1m11s\u001b[0m 12ms/step - accuracy: 0.8005 - loss: 0.4505 - val_accuracy: 0.7938 - val_loss: 0.5260\n",
      "Epoch 36/50\n",
      "\u001b[1m621/621\u001b[0m \u001b[32m━━━━━━━━━━━━━━━━━━━━\u001b[0m\u001b[37m\u001b[0m \u001b[1m7s\u001b[0m 10ms/step - accuracy: 0.8010 - loss: 0.4512 - val_accuracy: 0.7682 - val_loss: 0.5883\n",
      "Epoch 37/50\n",
      "\u001b[1m621/621\u001b[0m \u001b[32m━━━━━━━━━━━━━━━━━━━━\u001b[0m\u001b[37m\u001b[0m \u001b[1m6s\u001b[0m 10ms/step - accuracy: 0.7991 - loss: 0.4547 - val_accuracy: 0.8085 - val_loss: 0.4779\n",
      "Epoch 38/50\n",
      "\u001b[1m621/621\u001b[0m \u001b[32m━━━━━━━━━━━━━━━━━━━━\u001b[0m\u001b[37m\u001b[0m \u001b[1m7s\u001b[0m 11ms/step - accuracy: 0.7997 - loss: 0.4429 - val_accuracy: 0.8254 - val_loss: 0.4686\n",
      "Epoch 39/50\n",
      "\u001b[1m621/621\u001b[0m \u001b[32m━━━━━━━━━━━━━━━━━━━━\u001b[0m\u001b[37m\u001b[0m \u001b[1m7s\u001b[0m 10ms/step - accuracy: 0.7991 - loss: 0.4500 - val_accuracy: 0.8190 - val_loss: 0.4759\n",
      "Epoch 40/50\n",
      "\u001b[1m621/621\u001b[0m \u001b[32m━━━━━━━━━━━━━━━━━━━━\u001b[0m\u001b[37m\u001b[0m \u001b[1m7s\u001b[0m 11ms/step - accuracy: 0.8059 - loss: 0.4406 - val_accuracy: 0.8159 - val_loss: 0.4568\n",
      "Epoch 41/50\n",
      "\u001b[1m621/621\u001b[0m \u001b[32m━━━━━━━━━━━━━━━━━━━━\u001b[0m\u001b[37m\u001b[0m \u001b[1m6s\u001b[0m 10ms/step - accuracy: 0.8124 - loss: 0.4332 - val_accuracy: 0.8161 - val_loss: 0.4688\n",
      "Epoch 42/50\n",
      "\u001b[1m621/621\u001b[0m \u001b[32m━━━━━━━━━━━━━━━━━━━━\u001b[0m\u001b[37m\u001b[0m \u001b[1m6s\u001b[0m 10ms/step - accuracy: 0.7978 - loss: 0.4420 - val_accuracy: 0.7880 - val_loss: 0.5154\n",
      "Epoch 43/50\n",
      "\u001b[1m621/621\u001b[0m \u001b[32m━━━━━━━━━━━━━━━━━━━━\u001b[0m\u001b[37m\u001b[0m \u001b[1m6s\u001b[0m 10ms/step - accuracy: 0.7980 - loss: 0.4507 - val_accuracy: 0.7775 - val_loss: 0.5749\n",
      "Epoch 44/50\n",
      "\u001b[1m621/621\u001b[0m \u001b[32m━━━━━━━━━━━━━━━━━━━━\u001b[0m\u001b[37m\u001b[0m \u001b[1m6s\u001b[0m 10ms/step - accuracy: 0.8005 - loss: 0.4467 - val_accuracy: 0.8073 - val_loss: 0.4798\n",
      "Epoch 45/50\n",
      "\u001b[1m621/621\u001b[0m \u001b[32m━━━━━━━━━━━━━━━━━━━━\u001b[0m\u001b[37m\u001b[0m \u001b[1m7s\u001b[0m 11ms/step - accuracy: 0.8052 - loss: 0.4260 - val_accuracy: 0.7845 - val_loss: 0.5472\n",
      "Epoch 46/50\n",
      "\u001b[1m621/621\u001b[0m \u001b[32m━━━━━━━━━━━━━━━━━━━━\u001b[0m\u001b[37m\u001b[0m \u001b[1m6s\u001b[0m 10ms/step - accuracy: 0.8120 - loss: 0.4289 - val_accuracy: 0.7970 - val_loss: 0.4973\n",
      "Epoch 47/50\n",
      "\u001b[1m621/621\u001b[0m \u001b[32m━━━━━━━━━━━━━━━━━━━━\u001b[0m\u001b[37m\u001b[0m \u001b[1m6s\u001b[0m 10ms/step - accuracy: 0.8085 - loss: 0.4294 - val_accuracy: 0.8254 - val_loss: 0.4620\n",
      "Epoch 48/50\n",
      "\u001b[1m621/621\u001b[0m \u001b[32m━━━━━━━━━━━━━━━━━━━━\u001b[0m\u001b[37m\u001b[0m \u001b[1m6s\u001b[0m 10ms/step - accuracy: 0.8011 - loss: 0.4405 - val_accuracy: 0.8115 - val_loss: 0.4823\n",
      "Epoch 49/50\n",
      "\u001b[1m621/621\u001b[0m \u001b[32m━━━━━━━━━━━━━━━━━━━━\u001b[0m\u001b[37m\u001b[0m \u001b[1m6s\u001b[0m 10ms/step - accuracy: 0.8125 - loss: 0.4197 - val_accuracy: 0.7823 - val_loss: 0.5432\n",
      "Epoch 50/50\n",
      "\u001b[1m621/621\u001b[0m \u001b[32m━━━━━━━━━━━━━━━━━━━━\u001b[0m\u001b[37m\u001b[0m \u001b[1m7s\u001b[0m 11ms/step - accuracy: 0.8045 - loss: 0.4364 - val_accuracy: 0.8057 - val_loss: 0.4777\n"
     ]
    }
   ],
   "source": [
    "model = keras.Sequential([\n",
    "    layers.Input(shape = (exercise_predictors_train.shape[1],)),\n",
    "    layers.Dense(32, activation = 'relu'),\n",
    "    layers.Dense(64, activation = 'relu'),\n",
    "    layers.Dense(128, activation = 'relu'),\n",
    "    layers.Dense(256, activation = 'relu'),\n",
    "    layers.Dense(128, activation = 'relu'),\n",
    "    layers.Dense(64, activation = 'relu'),\n",
    "    layers.Dense(32, activation = 'relu'),\n",
    "    layers.Dense(len(np.unique(exercise_categories)), activation='softmax')\n",
    "])\n",
    " \n",
    "model.compile(optimizer = 'adam',\n",
    "              loss = 'sparse_categorical_crossentropy',\n",
    "              metrics = ['accuracy'])\n",
    "\n",
    "history = model.fit(exercise_predictors_train, exercise_categories_train, epochs=50, batch_size=32, validation_split=0.2)"
   ]
  },
  {
   "cell_type": "code",
   "execution_count": 23,
   "metadata": {},
   "outputs": [
    {
     "name": "stdout",
     "output_type": "stream",
     "text": [
      "Epoch 1/50\n",
      "\u001b[1m621/621\u001b[0m \u001b[32m━━━━━━━━━━━━━━━━━━━━\u001b[0m\u001b[37m\u001b[0m \u001b[1m15s\u001b[0m 16ms/step - accuracy: 0.6123 - loss: 1.2474 - val_accuracy: 0.7084 - val_loss: 0.7763\n",
      "Epoch 2/50\n",
      "\u001b[1m621/621\u001b[0m \u001b[32m━━━━━━━━━━━━━━━━━━━━\u001b[0m\u001b[37m\u001b[0m \u001b[1m6s\u001b[0m 10ms/step - accuracy: 0.7063 - loss: 0.6685 - val_accuracy: 0.7173 - val_loss: 0.6753\n",
      "Epoch 3/50\n",
      "\u001b[1m621/621\u001b[0m \u001b[32m━━━━━━━━━━━━━━━━━━━━\u001b[0m\u001b[37m\u001b[0m \u001b[1m7s\u001b[0m 11ms/step - accuracy: 0.7215 - loss: 0.6319 - val_accuracy: 0.7253 - val_loss: 0.6161\n",
      "Epoch 4/50\n",
      "\u001b[1m621/621\u001b[0m \u001b[32m━━━━━━━━━━━━━━━━━━━━\u001b[0m\u001b[37m\u001b[0m \u001b[1m6s\u001b[0m 10ms/step - accuracy: 0.7169 - loss: 0.6204 - val_accuracy: 0.7380 - val_loss: 0.5947\n",
      "Epoch 5/50\n",
      "\u001b[1m621/621\u001b[0m \u001b[32m━━━━━━━━━━━━━━━━━━━━\u001b[0m\u001b[37m\u001b[0m \u001b[1m6s\u001b[0m 10ms/step - accuracy: 0.7288 - loss: 0.5884 - val_accuracy: 0.7449 - val_loss: 0.6046\n",
      "Epoch 6/50\n",
      "\u001b[1m621/621\u001b[0m \u001b[32m━━━━━━━━━━━━━━━━━━━━\u001b[0m\u001b[37m\u001b[0m \u001b[1m6s\u001b[0m 10ms/step - accuracy: 0.7378 - loss: 0.5834 - val_accuracy: 0.7429 - val_loss: 0.6155\n",
      "Epoch 7/50\n",
      "\u001b[1m621/621\u001b[0m \u001b[32m━━━━━━━━━━━━━━━━━━━━\u001b[0m\u001b[37m\u001b[0m \u001b[1m6s\u001b[0m 10ms/step - accuracy: 0.7377 - loss: 0.5923 - val_accuracy: 0.7169 - val_loss: 0.6205\n",
      "Epoch 8/50\n",
      "\u001b[1m621/621\u001b[0m \u001b[32m━━━━━━━━━━━━━━━━━━━━\u001b[0m\u001b[37m\u001b[0m \u001b[1m7s\u001b[0m 11ms/step - accuracy: 0.7404 - loss: 0.5680 - val_accuracy: 0.7427 - val_loss: 0.5753\n",
      "Epoch 9/50\n",
      "\u001b[1m621/621\u001b[0m \u001b[32m━━━━━━━━━━━━━━━━━━━━\u001b[0m\u001b[37m\u001b[0m \u001b[1m6s\u001b[0m 10ms/step - accuracy: 0.7488 - loss: 0.5577 - val_accuracy: 0.7561 - val_loss: 0.5571\n",
      "Epoch 10/50\n",
      "\u001b[1m621/621\u001b[0m \u001b[32m━━━━━━━━━━━━━━━━━━━━\u001b[0m\u001b[37m\u001b[0m \u001b[1m6s\u001b[0m 10ms/step - accuracy: 0.7509 - loss: 0.5445 - val_accuracy: 0.7461 - val_loss: 0.5506\n",
      "Epoch 11/50\n",
      "\u001b[1m621/621\u001b[0m \u001b[32m━━━━━━━━━━━━━━━━━━━━\u001b[0m\u001b[37m\u001b[0m \u001b[1m6s\u001b[0m 10ms/step - accuracy: 0.7557 - loss: 0.5389 - val_accuracy: 0.7696 - val_loss: 0.5208\n",
      "Epoch 12/50\n",
      "\u001b[1m621/621\u001b[0m \u001b[32m━━━━━━━━━━━━━━━━━━━━\u001b[0m\u001b[37m\u001b[0m \u001b[1m6s\u001b[0m 10ms/step - accuracy: 0.7576 - loss: 0.5400 - val_accuracy: 0.7710 - val_loss: 0.5436\n",
      "Epoch 13/50\n",
      "\u001b[1m621/621\u001b[0m \u001b[32m━━━━━━━━━━━━━━━━━━━━\u001b[0m\u001b[37m\u001b[0m \u001b[1m6s\u001b[0m 10ms/step - accuracy: 0.7626 - loss: 0.5253 - val_accuracy: 0.7505 - val_loss: 0.5833\n",
      "Epoch 14/50\n",
      "\u001b[1m621/621\u001b[0m \u001b[32m━━━━━━━━━━━━━━━━━━━━\u001b[0m\u001b[37m\u001b[0m \u001b[1m7s\u001b[0m 11ms/step - accuracy: 0.7745 - loss: 0.5094 - val_accuracy: 0.8045 - val_loss: 0.5002\n",
      "Epoch 15/50\n",
      "\u001b[1m621/621\u001b[0m \u001b[32m━━━━━━━━━━━━━━━━━━━━\u001b[0m\u001b[37m\u001b[0m \u001b[1m6s\u001b[0m 10ms/step - accuracy: 0.7635 - loss: 0.5208 - val_accuracy: 0.7743 - val_loss: 0.5074\n",
      "Epoch 16/50\n",
      "\u001b[1m621/621\u001b[0m \u001b[32m━━━━━━━━━━━━━━━━━━━━\u001b[0m\u001b[37m\u001b[0m \u001b[1m6s\u001b[0m 10ms/step - accuracy: 0.7725 - loss: 0.5030 - val_accuracy: 0.7970 - val_loss: 0.5093\n",
      "Epoch 17/50\n",
      "\u001b[1m621/621\u001b[0m \u001b[32m━━━━━━━━━━━━━━━━━━━━\u001b[0m\u001b[37m\u001b[0m \u001b[1m6s\u001b[0m 10ms/step - accuracy: 0.7753 - loss: 0.5001 - val_accuracy: 0.7700 - val_loss: 0.5303\n",
      "Epoch 18/50\n",
      "\u001b[1m621/621\u001b[0m \u001b[32m━━━━━━━━━━━━━━━━━━━━\u001b[0m\u001b[37m\u001b[0m \u001b[1m6s\u001b[0m 10ms/step - accuracy: 0.7750 - loss: 0.5092 - val_accuracy: 0.7984 - val_loss: 0.4940\n",
      "Epoch 19/50\n",
      "\u001b[1m621/621\u001b[0m \u001b[32m━━━━━━━━━━━━━━━━━━━━\u001b[0m\u001b[37m\u001b[0m \u001b[1m7s\u001b[0m 11ms/step - accuracy: 0.7777 - loss: 0.4926 - val_accuracy: 0.7809 - val_loss: 0.5319\n",
      "Epoch 20/50\n",
      "\u001b[1m621/621\u001b[0m \u001b[32m━━━━━━━━━━━━━━━━━━━━\u001b[0m\u001b[37m\u001b[0m \u001b[1m6s\u001b[0m 10ms/step - accuracy: 0.7706 - loss: 0.5041 - val_accuracy: 0.7882 - val_loss: 0.5012\n",
      "Epoch 21/50\n",
      "\u001b[1m621/621\u001b[0m \u001b[32m━━━━━━━━━━━━━━━━━━━━\u001b[0m\u001b[37m\u001b[0m \u001b[1m6s\u001b[0m 10ms/step - accuracy: 0.7864 - loss: 0.4730 - val_accuracy: 0.7785 - val_loss: 0.4957\n",
      "Epoch 22/50\n",
      "\u001b[1m621/621\u001b[0m \u001b[32m━━━━━━━━━━━━━━━━━━━━\u001b[0m\u001b[37m\u001b[0m \u001b[1m6s\u001b[0m 10ms/step - accuracy: 0.7822 - loss: 0.4818 - val_accuracy: 0.7994 - val_loss: 0.4926\n",
      "Epoch 23/50\n",
      "\u001b[1m621/621\u001b[0m \u001b[32m━━━━━━━━━━━━━━━━━━━━\u001b[0m\u001b[37m\u001b[0m \u001b[1m6s\u001b[0m 10ms/step - accuracy: 0.7920 - loss: 0.4777 - val_accuracy: 0.8006 - val_loss: 0.4979\n",
      "Epoch 24/50\n",
      "\u001b[1m621/621\u001b[0m \u001b[32m━━━━━━━━━━━━━━━━━━━━\u001b[0m\u001b[37m\u001b[0m \u001b[1m7s\u001b[0m 11ms/step - accuracy: 0.7827 - loss: 0.4830 - val_accuracy: 0.7465 - val_loss: 0.5365\n",
      "Epoch 25/50\n",
      "\u001b[1m621/621\u001b[0m \u001b[32m━━━━━━━━━━━━━━━━━━━━\u001b[0m\u001b[37m\u001b[0m \u001b[1m6s\u001b[0m 10ms/step - accuracy: 0.7864 - loss: 0.4807 - val_accuracy: 0.7950 - val_loss: 0.4804\n",
      "Epoch 26/50\n",
      "\u001b[1m621/621\u001b[0m \u001b[32m━━━━━━━━━━━━━━━━━━━━\u001b[0m\u001b[37m\u001b[0m \u001b[1m6s\u001b[0m 10ms/step - accuracy: 0.7842 - loss: 0.4718 - val_accuracy: 0.7855 - val_loss: 0.5229\n",
      "Epoch 27/50\n",
      "\u001b[1m621/621\u001b[0m \u001b[32m━━━━━━━━━━━━━━━━━━━━\u001b[0m\u001b[37m\u001b[0m \u001b[1m6s\u001b[0m 10ms/step - accuracy: 0.7792 - loss: 0.4842 - val_accuracy: 0.7723 - val_loss: 0.4964\n",
      "Epoch 28/50\n",
      "\u001b[1m621/621\u001b[0m \u001b[32m━━━━━━━━━━━━━━━━━━━━\u001b[0m\u001b[37m\u001b[0m \u001b[1m6s\u001b[0m 10ms/step - accuracy: 0.7870 - loss: 0.4720 - val_accuracy: 0.7837 - val_loss: 0.4998\n",
      "Epoch 29/50\n",
      "\u001b[1m621/621\u001b[0m \u001b[32m━━━━━━━━━━━━━━━━━━━━\u001b[0m\u001b[37m\u001b[0m \u001b[1m7s\u001b[0m 11ms/step - accuracy: 0.7785 - loss: 0.4920 - val_accuracy: 0.7920 - val_loss: 0.4968\n",
      "Epoch 30/50\n",
      "\u001b[1m621/621\u001b[0m \u001b[32m━━━━━━━━━━━━━━━━━━━━\u001b[0m\u001b[37m\u001b[0m \u001b[1m7s\u001b[0m 11ms/step - accuracy: 0.7833 - loss: 0.4763 - val_accuracy: 0.7956 - val_loss: 0.4811\n",
      "Epoch 31/50\n",
      "\u001b[1m621/621\u001b[0m \u001b[32m━━━━━━━━━━━━━━━━━━━━\u001b[0m\u001b[37m\u001b[0m \u001b[1m7s\u001b[0m 10ms/step - accuracy: 0.7863 - loss: 0.4760 - val_accuracy: 0.8029 - val_loss: 0.4812\n",
      "Epoch 32/50\n",
      "\u001b[1m621/621\u001b[0m \u001b[32m━━━━━━━━━━━━━━━━━━━━\u001b[0m\u001b[37m\u001b[0m \u001b[1m6s\u001b[0m 10ms/step - accuracy: 0.7889 - loss: 0.4710 - val_accuracy: 0.7936 - val_loss: 0.5032\n",
      "Epoch 33/50\n",
      "\u001b[1m621/621\u001b[0m \u001b[32m━━━━━━━━━━━━━━━━━━━━\u001b[0m\u001b[37m\u001b[0m \u001b[1m6s\u001b[0m 10ms/step - accuracy: 0.7969 - loss: 0.4595 - val_accuracy: 0.8067 - val_loss: 0.4828\n",
      "Epoch 34/50\n",
      "\u001b[1m621/621\u001b[0m \u001b[32m━━━━━━━━━━━━━━━━━━━━\u001b[0m\u001b[37m\u001b[0m \u001b[1m6s\u001b[0m 10ms/step - accuracy: 0.7960 - loss: 0.4588 - val_accuracy: 0.7898 - val_loss: 0.4915\n",
      "Epoch 35/50\n",
      "\u001b[1m621/621\u001b[0m \u001b[32m━━━━━━━━━━━━━━━━━━━━\u001b[0m\u001b[37m\u001b[0m \u001b[1m6s\u001b[0m 10ms/step - accuracy: 0.7919 - loss: 0.4605 - val_accuracy: 0.8014 - val_loss: 0.4701\n",
      "Epoch 36/50\n",
      "\u001b[1m621/621\u001b[0m \u001b[32m━━━━━━━━━━━━━━━━━━━━\u001b[0m\u001b[37m\u001b[0m \u001b[1m6s\u001b[0m 10ms/step - accuracy: 0.7934 - loss: 0.4583 - val_accuracy: 0.8053 - val_loss: 0.4696\n",
      "Epoch 37/50\n",
      "\u001b[1m621/621\u001b[0m \u001b[32m━━━━━━━━━━━━━━━━━━━━\u001b[0m\u001b[37m\u001b[0m \u001b[1m6s\u001b[0m 10ms/step - accuracy: 0.7961 - loss: 0.4570 - val_accuracy: 0.8093 - val_loss: 0.4545\n",
      "Epoch 38/50\n",
      "\u001b[1m621/621\u001b[0m \u001b[32m━━━━━━━━━━━━━━━━━━━━\u001b[0m\u001b[37m\u001b[0m \u001b[1m6s\u001b[0m 10ms/step - accuracy: 0.7914 - loss: 0.4649 - val_accuracy: 0.8057 - val_loss: 0.4775\n",
      "Epoch 39/50\n",
      "\u001b[1m621/621\u001b[0m \u001b[32m━━━━━━━━━━━━━━━━━━━━\u001b[0m\u001b[37m\u001b[0m \u001b[1m6s\u001b[0m 10ms/step - accuracy: 0.7942 - loss: 0.4612 - val_accuracy: 0.8037 - val_loss: 0.4836\n",
      "Epoch 40/50\n",
      "\u001b[1m621/621\u001b[0m \u001b[32m━━━━━━━━━━━━━━━━━━━━\u001b[0m\u001b[37m\u001b[0m \u001b[1m7s\u001b[0m 10ms/step - accuracy: 0.8015 - loss: 0.4450 - val_accuracy: 0.7424 - val_loss: 0.6210\n",
      "Epoch 41/50\n",
      "\u001b[1m621/621\u001b[0m \u001b[32m━━━━━━━━━━━━━━━━━━━━\u001b[0m\u001b[37m\u001b[0m \u001b[1m6s\u001b[0m 10ms/step - accuracy: 0.7950 - loss: 0.4594 - val_accuracy: 0.8045 - val_loss: 0.4631\n",
      "Epoch 42/50\n",
      "\u001b[1m621/621\u001b[0m \u001b[32m━━━━━━━━━━━━━━━━━━━━\u001b[0m\u001b[37m\u001b[0m \u001b[1m6s\u001b[0m 10ms/step - accuracy: 0.7989 - loss: 0.4462 - val_accuracy: 0.8073 - val_loss: 0.4671\n",
      "Epoch 43/50\n",
      "\u001b[1m621/621\u001b[0m \u001b[32m━━━━━━━━━━━━━━━━━━━━\u001b[0m\u001b[37m\u001b[0m \u001b[1m6s\u001b[0m 10ms/step - accuracy: 0.8070 - loss: 0.4374 - val_accuracy: 0.8151 - val_loss: 0.4592\n",
      "Epoch 44/50\n",
      "\u001b[1m621/621\u001b[0m \u001b[32m━━━━━━━━━━━━━━━━━━━━\u001b[0m\u001b[37m\u001b[0m \u001b[1m6s\u001b[0m 10ms/step - accuracy: 0.7948 - loss: 0.4522 - val_accuracy: 0.8214 - val_loss: 0.4633\n",
      "Epoch 45/50\n",
      "\u001b[1m621/621\u001b[0m \u001b[32m━━━━━━━━━━━━━━━━━━━━\u001b[0m\u001b[37m\u001b[0m \u001b[1m7s\u001b[0m 11ms/step - accuracy: 0.7921 - loss: 0.4587 - val_accuracy: 0.7783 - val_loss: 0.5061\n",
      "Epoch 46/50\n",
      "\u001b[1m621/621\u001b[0m \u001b[32m━━━━━━━━━━━━━━━━━━━━\u001b[0m\u001b[37m\u001b[0m \u001b[1m6s\u001b[0m 10ms/step - accuracy: 0.8059 - loss: 0.4444 - val_accuracy: 0.7878 - val_loss: 0.4802\n",
      "Epoch 47/50\n",
      "\u001b[1m621/621\u001b[0m \u001b[32m━━━━━━━━━━━━━━━━━━━━\u001b[0m\u001b[37m\u001b[0m \u001b[1m6s\u001b[0m 10ms/step - accuracy: 0.7978 - loss: 0.4513 - val_accuracy: 0.8117 - val_loss: 0.4727\n",
      "Epoch 48/50\n",
      "\u001b[1m621/621\u001b[0m \u001b[32m━━━━━━━━━━━━━━━━━━━━\u001b[0m\u001b[37m\u001b[0m \u001b[1m6s\u001b[0m 10ms/step - accuracy: 0.8077 - loss: 0.4359 - val_accuracy: 0.8101 - val_loss: 0.4779\n",
      "Epoch 49/50\n",
      "\u001b[1m621/621\u001b[0m \u001b[32m━━━━━━━━━━━━━━━━━━━━\u001b[0m\u001b[37m\u001b[0m \u001b[1m6s\u001b[0m 10ms/step - accuracy: 0.8118 - loss: 0.4310 - val_accuracy: 0.8077 - val_loss: 0.4831\n",
      "Epoch 50/50\n",
      "\u001b[1m621/621\u001b[0m \u001b[32m━━━━━━━━━━━━━━━━━━━━\u001b[0m\u001b[37m\u001b[0m \u001b[1m7s\u001b[0m 10ms/step - accuracy: 0.8021 - loss: 0.4460 - val_accuracy: 0.8014 - val_loss: 0.4623\n"
     ]
    }
   ],
   "source": [
    "model = keras.Sequential([\n",
    "    layers.Input(shape = (exercise_predictors_train.shape[1],)),\n",
    "    layers.Dense(32, activation = 'relu'),\n",
    "    layers.Dense(64, activation = 'relu'),\n",
    "    layers.Dense(64, activation = 'relu'),\n",
    "     layers.Dense(64, activation = 'relu'),\n",
    "    layers.Dense(64, activation = 'relu'),\n",
    "    layers.Dense(32, activation = 'relu'),\n",
    "    layers.Dense(len(np.unique(exercise_categories)), activation='softmax')\n",
    "])\n",
    " \n",
    "model.compile(optimizer = 'adam',\n",
    "              loss = 'sparse_categorical_crossentropy',\n",
    "              \n",
    "              metrics = ['accuracy'])\n",
    "\n",
    "history = model.fit(exercise_predictors_train, exercise_categories_train, epochs=50, batch_size=32, validation_split=0.2)"
   ]
  },
  {
   "cell_type": "code",
   "execution_count": 22,
   "metadata": {},
   "outputs": [
    {
     "name": "stdout",
     "output_type": "stream",
     "text": [
      "Epoch 1/50\n",
      "\u001b[1m621/621\u001b[0m \u001b[32m━━━━━━━━━━━━━━━━━━━━\u001b[0m\u001b[37m\u001b[0m \u001b[1m14s\u001b[0m 15ms/step - accuracy: 0.5979 - loss: 3.0915 - val_accuracy: 0.7000 - val_loss: 0.7856\n",
      "Epoch 2/50\n",
      "\u001b[1m621/621\u001b[0m \u001b[32m━━━━━━━━━━━━━━━━━━━━\u001b[0m\u001b[37m\u001b[0m \u001b[1m6s\u001b[0m 9ms/step - accuracy: 0.6840 - loss: 0.8948 - val_accuracy: 0.6992 - val_loss: 0.8628\n",
      "Epoch 3/50\n",
      "\u001b[1m621/621\u001b[0m \u001b[32m━━━━━━━━━━━━━━━━━━━━\u001b[0m\u001b[37m\u001b[0m \u001b[1m6s\u001b[0m 10ms/step - accuracy: 0.7042 - loss: 0.7860 - val_accuracy: 0.6742 - val_loss: 1.0858\n",
      "Epoch 4/50\n",
      "\u001b[1m621/621\u001b[0m \u001b[32m━━━━━━━━━━━━━━━━━━━━\u001b[0m\u001b[37m\u001b[0m \u001b[1m6s\u001b[0m 10ms/step - accuracy: 0.7074 - loss: 0.7749 - val_accuracy: 0.7128 - val_loss: 0.6830\n",
      "Epoch 5/50\n",
      "\u001b[1m621/621\u001b[0m \u001b[32m━━━━━━━━━━━━━━━━━━━━\u001b[0m\u001b[37m\u001b[0m \u001b[1m6s\u001b[0m 9ms/step - accuracy: 0.7066 - loss: 0.7240 - val_accuracy: 0.7271 - val_loss: 0.7104\n",
      "Epoch 6/50\n",
      "\u001b[1m621/621\u001b[0m \u001b[32m━━━━━━━━━━━━━━━━━━━━\u001b[0m\u001b[37m\u001b[0m \u001b[1m6s\u001b[0m 9ms/step - accuracy: 0.7083 - loss: 0.7325 - val_accuracy: 0.7280 - val_loss: 0.6917\n",
      "Epoch 7/50\n",
      "\u001b[1m621/621\u001b[0m \u001b[32m━━━━━━━━━━━━━━━━━━━━\u001b[0m\u001b[37m\u001b[0m \u001b[1m6s\u001b[0m 9ms/step - accuracy: 0.7256 - loss: 0.6790 - val_accuracy: 0.7306 - val_loss: 0.7279\n",
      "Epoch 8/50\n",
      "\u001b[1m621/621\u001b[0m \u001b[32m━━━━━━━━━━━━━━━━━━━━\u001b[0m\u001b[37m\u001b[0m \u001b[1m6s\u001b[0m 10ms/step - accuracy: 0.7245 - loss: 0.6684 - val_accuracy: 0.7191 - val_loss: 0.6907\n",
      "Epoch 9/50\n",
      "\u001b[1m621/621\u001b[0m \u001b[32m━━━━━━━━━━━━━━━━━━━━\u001b[0m\u001b[37m\u001b[0m \u001b[1m6s\u001b[0m 9ms/step - accuracy: 0.7218 - loss: 0.6631 - val_accuracy: 0.7483 - val_loss: 0.6190\n",
      "Epoch 10/50\n",
      "\u001b[1m621/621\u001b[0m \u001b[32m━━━━━━━━━━━━━━━━━━━━\u001b[0m\u001b[37m\u001b[0m \u001b[1m6s\u001b[0m 9ms/step - accuracy: 0.7304 - loss: 0.6232 - val_accuracy: 0.7424 - val_loss: 0.6387\n",
      "Epoch 11/50\n",
      "\u001b[1m621/621\u001b[0m \u001b[32m━━━━━━━━━━━━━━━━━━━━\u001b[0m\u001b[37m\u001b[0m \u001b[1m6s\u001b[0m 9ms/step - accuracy: 0.7347 - loss: 0.6142 - val_accuracy: 0.7533 - val_loss: 0.6163\n",
      "Epoch 12/50\n",
      "\u001b[1m621/621\u001b[0m \u001b[32m━━━━━━━━━━━━━━━━━━━━\u001b[0m\u001b[37m\u001b[0m \u001b[1m6s\u001b[0m 9ms/step - accuracy: 0.7309 - loss: 0.6323 - val_accuracy: 0.7388 - val_loss: 0.6155\n",
      "Epoch 13/50\n",
      "\u001b[1m621/621\u001b[0m \u001b[32m━━━━━━━━━━━━━━━━━━━━\u001b[0m\u001b[37m\u001b[0m \u001b[1m6s\u001b[0m 9ms/step - accuracy: 0.7354 - loss: 0.6034 - val_accuracy: 0.7396 - val_loss: 0.6429\n",
      "Epoch 14/50\n",
      "\u001b[1m621/621\u001b[0m \u001b[32m━━━━━━━━━━━━━━━━━━━━\u001b[0m\u001b[37m\u001b[0m \u001b[1m6s\u001b[0m 10ms/step - accuracy: 0.7359 - loss: 0.5974 - val_accuracy: 0.7193 - val_loss: 0.6657\n",
      "Epoch 15/50\n",
      "\u001b[1m621/621\u001b[0m \u001b[32m━━━━━━━━━━━━━━━━━━━━\u001b[0m\u001b[37m\u001b[0m \u001b[1m6s\u001b[0m 9ms/step - accuracy: 0.7421 - loss: 0.5841 - val_accuracy: 0.7479 - val_loss: 0.6054\n",
      "Epoch 16/50\n",
      "\u001b[1m621/621\u001b[0m \u001b[32m━━━━━━━━━━━━━━━━━━━━\u001b[0m\u001b[37m\u001b[0m \u001b[1m6s\u001b[0m 9ms/step - accuracy: 0.7366 - loss: 0.5863 - val_accuracy: 0.7626 - val_loss: 0.6031\n",
      "Epoch 17/50\n",
      "\u001b[1m621/621\u001b[0m \u001b[32m━━━━━━━━━━━━━━━━━━━━\u001b[0m\u001b[37m\u001b[0m \u001b[1m6s\u001b[0m 9ms/step - accuracy: 0.7361 - loss: 0.5924 - val_accuracy: 0.7563 - val_loss: 0.5950\n",
      "Epoch 18/50\n",
      "\u001b[1m621/621\u001b[0m \u001b[32m━━━━━━━━━━━━━━━━━━━━\u001b[0m\u001b[37m\u001b[0m \u001b[1m6s\u001b[0m 9ms/step - accuracy: 0.7412 - loss: 0.5807 - val_accuracy: 0.7433 - val_loss: 0.6148\n",
      "Epoch 19/50\n",
      "\u001b[1m621/621\u001b[0m \u001b[32m━━━━━━━━━━━━━━━━━━━━\u001b[0m\u001b[37m\u001b[0m \u001b[1m6s\u001b[0m 9ms/step - accuracy: 0.7442 - loss: 0.5684 - val_accuracy: 0.7314 - val_loss: 0.6114\n",
      "Epoch 20/50\n",
      "\u001b[1m621/621\u001b[0m \u001b[32m━━━━━━━━━━━━━━━━━━━━\u001b[0m\u001b[37m\u001b[0m \u001b[1m6s\u001b[0m 10ms/step - accuracy: 0.7431 - loss: 0.5701 - val_accuracy: 0.7410 - val_loss: 0.5915\n",
      "Epoch 21/50\n",
      "\u001b[1m621/621\u001b[0m \u001b[32m━━━━━━━━━━━━━━━━━━━━\u001b[0m\u001b[37m\u001b[0m \u001b[1m6s\u001b[0m 9ms/step - accuracy: 0.7503 - loss: 0.5515 - val_accuracy: 0.7282 - val_loss: 0.6441\n",
      "Epoch 22/50\n",
      "\u001b[1m621/621\u001b[0m \u001b[32m━━━━━━━━━━━━━━━━━━━━\u001b[0m\u001b[37m\u001b[0m \u001b[1m6s\u001b[0m 9ms/step - accuracy: 0.7533 - loss: 0.5598 - val_accuracy: 0.7523 - val_loss: 0.5853\n",
      "Epoch 23/50\n",
      "\u001b[1m621/621\u001b[0m \u001b[32m━━━━━━━━━━━━━━━━━━━━\u001b[0m\u001b[37m\u001b[0m \u001b[1m6s\u001b[0m 9ms/step - accuracy: 0.7489 - loss: 0.5470 - val_accuracy: 0.7559 - val_loss: 0.5592\n",
      "Epoch 24/50\n",
      "\u001b[1m621/621\u001b[0m \u001b[32m━━━━━━━━━━━━━━━━━━━━\u001b[0m\u001b[37m\u001b[0m \u001b[1m6s\u001b[0m 9ms/step - accuracy: 0.7637 - loss: 0.5367 - val_accuracy: 0.7716 - val_loss: 0.5537\n",
      "Epoch 25/50\n",
      "\u001b[1m621/621\u001b[0m \u001b[32m━━━━━━━━━━━━━━━━━━━━\u001b[0m\u001b[37m\u001b[0m \u001b[1m6s\u001b[0m 10ms/step - accuracy: 0.7521 - loss: 0.5529 - val_accuracy: 0.7855 - val_loss: 0.5566\n",
      "Epoch 26/50\n",
      "\u001b[1m621/621\u001b[0m \u001b[32m━━━━━━━━━━━━━━━━━━━━\u001b[0m\u001b[37m\u001b[0m \u001b[1m6s\u001b[0m 9ms/step - accuracy: 0.7583 - loss: 0.5405 - val_accuracy: 0.7580 - val_loss: 0.5518\n",
      "Epoch 27/50\n",
      "\u001b[1m621/621\u001b[0m \u001b[32m━━━━━━━━━━━━━━━━━━━━\u001b[0m\u001b[37m\u001b[0m \u001b[1m6s\u001b[0m 9ms/step - accuracy: 0.7699 - loss: 0.5283 - val_accuracy: 0.7727 - val_loss: 0.5563\n",
      "Epoch 28/50\n",
      "\u001b[1m621/621\u001b[0m \u001b[32m━━━━━━━━━━━━━━━━━━━━\u001b[0m\u001b[37m\u001b[0m \u001b[1m6s\u001b[0m 9ms/step - accuracy: 0.7662 - loss: 0.5210 - val_accuracy: 0.7481 - val_loss: 0.5698\n",
      "Epoch 29/50\n",
      "\u001b[1m621/621\u001b[0m \u001b[32m━━━━━━━━━━━━━━━━━━━━\u001b[0m\u001b[37m\u001b[0m \u001b[1m6s\u001b[0m 9ms/step - accuracy: 0.7689 - loss: 0.5239 - val_accuracy: 0.7489 - val_loss: 0.5845\n",
      "Epoch 30/50\n",
      "\u001b[1m621/621\u001b[0m \u001b[32m━━━━━━━━━━━━━━━━━━━━\u001b[0m\u001b[37m\u001b[0m \u001b[1m6s\u001b[0m 9ms/step - accuracy: 0.7698 - loss: 0.5219 - val_accuracy: 0.7749 - val_loss: 0.5516\n",
      "Epoch 31/50\n",
      "\u001b[1m621/621\u001b[0m \u001b[32m━━━━━━━━━━━━━━━━━━━━\u001b[0m\u001b[37m\u001b[0m \u001b[1m6s\u001b[0m 10ms/step - accuracy: 0.7636 - loss: 0.5310 - val_accuracy: 0.7263 - val_loss: 0.6725\n",
      "Epoch 32/50\n",
      "\u001b[1m621/621\u001b[0m \u001b[32m━━━━━━━━━━━━━━━━━━━━\u001b[0m\u001b[37m\u001b[0m \u001b[1m6s\u001b[0m 9ms/step - accuracy: 0.7579 - loss: 0.5308 - val_accuracy: 0.7531 - val_loss: 0.5781\n",
      "Epoch 33/50\n",
      "\u001b[1m621/621\u001b[0m \u001b[32m━━━━━━━━━━━━━━━━━━━━\u001b[0m\u001b[37m\u001b[0m \u001b[1m5s\u001b[0m 9ms/step - accuracy: 0.7670 - loss: 0.5163 - val_accuracy: 0.7592 - val_loss: 0.5715\n",
      "Epoch 34/50\n",
      "\u001b[1m621/621\u001b[0m \u001b[32m━━━━━━━━━━━━━━━━━━━━\u001b[0m\u001b[37m\u001b[0m \u001b[1m6s\u001b[0m 9ms/step - accuracy: 0.7690 - loss: 0.5123 - val_accuracy: 0.7767 - val_loss: 0.5563\n",
      "Epoch 35/50\n",
      "\u001b[1m621/621\u001b[0m \u001b[32m━━━━━━━━━━━━━━━━━━━━\u001b[0m\u001b[37m\u001b[0m \u001b[1m6s\u001b[0m 9ms/step - accuracy: 0.7775 - loss: 0.5029 - val_accuracy: 0.7549 - val_loss: 0.5646\n",
      "Epoch 36/50\n",
      "\u001b[1m621/621\u001b[0m \u001b[32m━━━━━━━━━━━━━━━━━━━━\u001b[0m\u001b[37m\u001b[0m \u001b[1m6s\u001b[0m 10ms/step - accuracy: 0.7679 - loss: 0.5147 - val_accuracy: 0.7751 - val_loss: 0.5422\n",
      "Epoch 37/50\n",
      "\u001b[1m621/621\u001b[0m \u001b[32m━━━━━━━━━━━━━━━━━━━━\u001b[0m\u001b[37m\u001b[0m \u001b[1m6s\u001b[0m 9ms/step - accuracy: 0.7745 - loss: 0.5028 - val_accuracy: 0.7491 - val_loss: 0.5896\n",
      "Epoch 38/50\n",
      "\u001b[1m621/621\u001b[0m \u001b[32m━━━━━━━━━━━━━━━━━━━━\u001b[0m\u001b[37m\u001b[0m \u001b[1m6s\u001b[0m 9ms/step - accuracy: 0.7778 - loss: 0.4970 - val_accuracy: 0.7853 - val_loss: 0.5324\n",
      "Epoch 39/50\n",
      "\u001b[1m621/621\u001b[0m \u001b[32m━━━━━━━━━━━━━━━━━━━━\u001b[0m\u001b[37m\u001b[0m \u001b[1m6s\u001b[0m 9ms/step - accuracy: 0.7789 - loss: 0.5021 - val_accuracy: 0.7789 - val_loss: 0.5440\n",
      "Epoch 40/50\n",
      "\u001b[1m621/621\u001b[0m \u001b[32m━━━━━━━━━━━━━━━━━━━━\u001b[0m\u001b[37m\u001b[0m \u001b[1m6s\u001b[0m 9ms/step - accuracy: 0.7784 - loss: 0.5034 - val_accuracy: 0.7932 - val_loss: 0.5204\n",
      "Epoch 41/50\n",
      "\u001b[1m621/621\u001b[0m \u001b[32m━━━━━━━━━━━━━━━━━━━━\u001b[0m\u001b[37m\u001b[0m \u001b[1m6s\u001b[0m 9ms/step - accuracy: 0.7800 - loss: 0.4959 - val_accuracy: 0.8031 - val_loss: 0.5306\n",
      "Epoch 42/50\n",
      "\u001b[1m621/621\u001b[0m \u001b[32m━━━━━━━━━━━━━━━━━━━━\u001b[0m\u001b[37m\u001b[0m \u001b[1m6s\u001b[0m 10ms/step - accuracy: 0.7792 - loss: 0.4924 - val_accuracy: 0.7817 - val_loss: 0.5420\n",
      "Epoch 43/50\n",
      "\u001b[1m621/621\u001b[0m \u001b[32m━━━━━━━━━━━━━━━━━━━━\u001b[0m\u001b[37m\u001b[0m \u001b[1m6s\u001b[0m 9ms/step - accuracy: 0.7801 - loss: 0.5036 - val_accuracy: 0.7892 - val_loss: 0.5136\n",
      "Epoch 44/50\n",
      "\u001b[1m621/621\u001b[0m \u001b[32m━━━━━━━━━━━━━━━━━━━━\u001b[0m\u001b[37m\u001b[0m \u001b[1m5s\u001b[0m 9ms/step - accuracy: 0.7776 - loss: 0.4911 - val_accuracy: 0.7652 - val_loss: 0.5586\n",
      "Epoch 45/50\n",
      "\u001b[1m621/621\u001b[0m \u001b[32m━━━━━━━━━━━━━━━━━━━━\u001b[0m\u001b[37m\u001b[0m \u001b[1m5s\u001b[0m 9ms/step - accuracy: 0.7822 - loss: 0.4840 - val_accuracy: 0.7731 - val_loss: 0.5577\n",
      "Epoch 46/50\n",
      "\u001b[1m621/621\u001b[0m \u001b[32m━━━━━━━━━━━━━━━━━━━━\u001b[0m\u001b[37m\u001b[0m \u001b[1m5s\u001b[0m 9ms/step - accuracy: 0.7807 - loss: 0.4910 - val_accuracy: 0.7471 - val_loss: 0.6046\n",
      "Epoch 47/50\n",
      "\u001b[1m621/621\u001b[0m \u001b[32m━━━━━━━━━━━━━━━━━━━━\u001b[0m\u001b[37m\u001b[0m \u001b[1m6s\u001b[0m 9ms/step - accuracy: 0.7786 - loss: 0.4953 - val_accuracy: 0.7992 - val_loss: 0.5406\n",
      "Epoch 48/50\n",
      "\u001b[1m621/621\u001b[0m \u001b[32m━━━━━━━━━━━━━━━━━━━━\u001b[0m\u001b[37m\u001b[0m \u001b[1m6s\u001b[0m 9ms/step - accuracy: 0.7858 - loss: 0.4927 - val_accuracy: 0.7783 - val_loss: 0.5416\n",
      "Epoch 49/50\n",
      "\u001b[1m621/621\u001b[0m \u001b[32m━━━━━━━━━━━━━━━━━━━━\u001b[0m\u001b[37m\u001b[0m \u001b[1m5s\u001b[0m 9ms/step - accuracy: 0.7765 - loss: 0.4913 - val_accuracy: 0.8025 - val_loss: 0.5141\n",
      "Epoch 50/50\n",
      "\u001b[1m621/621\u001b[0m \u001b[32m━━━━━━━━━━━━━━━━━━━━\u001b[0m\u001b[37m\u001b[0m \u001b[1m5s\u001b[0m 9ms/step - accuracy: 0.7879 - loss: 0.4864 - val_accuracy: 0.7843 - val_loss: 0.5288\n"
     ]
    }
   ],
   "source": [
    "model = keras.Sequential([\n",
    "    layers.Input(shape = (exercise_predictors_train.shape[1],)),\n",
    "    layers.Dense(64, activation = 'relu'),\n",
    "    layers.Dense(64, activation = 'relu'),\n",
    "    layers.Dense(len(np.unique(exercise_categories)), activation='softmax')\n",
    "])\n",
    " \n",
    "model.compile(optimizer = 'adam',\n",
    "              loss = 'sparse_categorical_crossentropy',\n",
    "              \n",
    "              metrics = ['accuracy'])\n",
    "\n",
    "history = model.fit(exercise_predictors_train, exercise_categories_train, epochs=50, batch_size=32, validation_split=0.2)\n",
    "\n"
   ]
  }
 ],
 "metadata": {
  "kernelspec": {
   "display_name": "linux-deep-gpu",
   "language": "python",
   "name": "python3"
  },
  "language_info": {
   "codemirror_mode": {
    "name": "ipython",
    "version": 3
   },
   "file_extension": ".py",
   "mimetype": "text/x-python",
   "name": "python",
   "nbconvert_exporter": "python",
   "pygments_lexer": "ipython3",
   "version": "3.12.9"
  }
 },
 "nbformat": 4,
 "nbformat_minor": 2
}
